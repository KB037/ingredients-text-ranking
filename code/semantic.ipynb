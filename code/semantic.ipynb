{
 "cells": [
  {
   "cell_type": "code",
   "execution_count": 23,
   "metadata": {},
   "outputs": [],
   "source": [
    "import pandas as pd \n",
    "import numpy as np\n",
    "import matplotlib.pyplot as plt\n",
    "import seaborn as sns\n",
    "import time\n",
    "import pickle\n",
    "from nltk.corpus import stopwords \n",
    "from nltk.tokenize import word_tokenize \n",
    "import warnings\n",
    "warnings.filterwarnings('ignore')"
   ]
  },
  {
   "cell_type": "code",
   "execution_count": 2,
   "metadata": {},
   "outputs": [],
   "source": [
    "df = pd.read_csv(r\"./data/ingredients.csv\")\n",
    "article = open(\"./data/article.txt\", \"r\")\n",
    "article = article.read()"
   ]
  },
  {
   "cell_type": "code",
   "execution_count": 3,
   "metadata": {},
   "outputs": [
    {
     "data": {
      "text/html": [
       "<div>\n",
       "<style scoped>\n",
       "    .dataframe tbody tr th:only-of-type {\n",
       "        vertical-align: middle;\n",
       "    }\n",
       "\n",
       "    .dataframe tbody tr th {\n",
       "        vertical-align: top;\n",
       "    }\n",
       "\n",
       "    .dataframe thead th {\n",
       "        text-align: right;\n",
       "    }\n",
       "</style>\n",
       "<table border=\"1\" class=\"dataframe\">\n",
       "  <thead>\n",
       "    <tr style=\"text-align: right;\">\n",
       "      <th></th>\n",
       "      <th>Title</th>\n",
       "      <th>Description</th>\n",
       "    </tr>\n",
       "  </thead>\n",
       "  <tbody>\n",
       "    <tr>\n",
       "      <th>0</th>\n",
       "      <td>'Ambrette Seed'</td>\n",
       "      <td>Ambrette is a plant. The seed of the plant, ty...</td>\n",
       "    </tr>\n",
       "    <tr>\n",
       "      <th>1</th>\n",
       "      <td>'Apple Cinnamon Granola'</td>\n",
       "      <td>Packed with rolled oats, almonds, sunflower se...</td>\n",
       "    </tr>\n",
       "    <tr>\n",
       "      <th>2</th>\n",
       "      <td>'Arizona Seasoning'</td>\n",
       "      <td>Arizona Dreaming is simply a delicious all-pur...</td>\n",
       "    </tr>\n",
       "    <tr>\n",
       "      <th>3</th>\n",
       "      <td>Americano Coffee'</td>\n",
       "      <td>Type of coffee drink prepared by diluting an e...</td>\n",
       "    </tr>\n",
       "    <tr>\n",
       "      <th>4</th>\n",
       "      <td>'Baby Abalone'</td>\n",
       "      <td>is a common name for any of a group of small ...</td>\n",
       "    </tr>\n",
       "  </tbody>\n",
       "</table>\n",
       "</div>"
      ],
      "text/plain": [
       "                      Title                                        Description\n",
       "0           'Ambrette Seed'  Ambrette is a plant. The seed of the plant, ty...\n",
       "1  'Apple Cinnamon Granola'  Packed with rolled oats, almonds, sunflower se...\n",
       "2       'Arizona Seasoning'  Arizona Dreaming is simply a delicious all-pur...\n",
       "3         Americano Coffee'  Type of coffee drink prepared by diluting an e...\n",
       "4            'Baby Abalone'   is a common name for any of a group of small ..."
      ]
     },
     "execution_count": 3,
     "metadata": {},
     "output_type": "execute_result"
    }
   ],
   "source": [
    "df.head()"
   ]
  },
  {
   "cell_type": "code",
   "execution_count": 4,
   "metadata": {},
   "outputs": [],
   "source": [
    "df.iloc[:,1] = df.iloc[:,1]*1000"
   ]
  },
  {
   "cell_type": "code",
   "execution_count": 5,
   "metadata": {},
   "outputs": [],
   "source": [
    "stop_words = set(stopwords.words('english')) \n",
    "stop_words.update('.',',','(',')','!',';','%')"
   ]
  },
  {
   "cell_type": "code",
   "execution_count": 6,
   "metadata": {},
   "outputs": [],
   "source": [
    "for i in range(len(df)):\n",
    "    word_tokens = word_tokenize(df.loc[i][1])\n",
    "  \n",
    "    filtered_sentence = [w for w in word_tokens if not w.lower() in stop_words]\n",
    "    \n",
    "    filtered_sentence = []\n",
    "    \n",
    "    for w in word_tokens:\n",
    "        if w not in stop_words:\n",
    "            filtered_sentence.append(w)\n",
    "        \n",
    "    filtered_sentence = ' '.join(filtered_sentence)\n",
    "\n",
    "    df.iloc[i][1] = filtered_sentence\n",
    "\n",
    "word_tokens = word_tokenize(article)\n",
    "\n",
    "filtered_sentence = [w for w in word_tokens if not w.lower() in stop_words]\n",
    "    \n",
    "filtered_sentence = []\n",
    "\n",
    "for w in word_tokens:\n",
    "    if w not in stop_words:\n",
    "        filtered_sentence.append(w)\n",
    "    \n",
    "filtered_sentence = ' '.join(filtered_sentence)\n",
    "\n",
    "article = filtered_sentence"
   ]
  },
  {
   "cell_type": "code",
   "execution_count": 7,
   "metadata": {},
   "outputs": [
    {
     "data": {
      "image/png": "[encoded data removed]",
      "text/plain": [
       "<Figure size 640x480 with 1 Axes>"
      ]
     },
     "metadata": {},
     "output_type": "display_data"
    }
   ],
   "source": [
    "df['doc_len'] = df['Description'].apply(lambda words: len(words.split()))\n",
    "max_seq_len = np.round(df['doc_len'].mean() + df['doc_len'].std()).astype(int)\n",
    "sns.distplot(df['doc_len'], hist=True, kde=True, color='b', label='doc len')\n",
    "plt.axvline(x=max_seq_len, color='k', linestyle='--', label='max len')\n",
    "plt.title('plot length'); plt.legend()\n",
    "plt.show()"
   ]
  },
  {
   "cell_type": "code",
   "execution_count": 26,
   "metadata": {},
   "outputs": [],
   "source": [
    "import sentence_transformers\n",
    "from sentence_transformers import SentenceTransformer\n",
    "model = SentenceTransformer('msmarco-roberta-base-v3')"
   ]
  },
  {
   "cell_type": "code",
   "execution_count": 31,
   "metadata": {},
   "outputs": [],
   "source": [
    "import faiss\n",
    "encoded_data = model.encode(df.Description.tolist())\n",
    "encoded_data = np.asarray(encoded_data.astype('float32')).astype('float32')\n",
    "index = faiss.IndexIDMap(faiss.IndexFlatIP(768))\n",
    "index.add_with_ids(encoded_data, (np.array(range(0, len(df))).astype('int64')))"
   ]
  },
  {
   "cell_type": "code",
   "execution_count": 32,
   "metadata": {},
   "outputs": [],
   "source": [
    "def fetch_movie_info(dataframe_idx):\n",
    "    info = df.iloc[dataframe_idx]\n",
    "    meta_dict = dict()\n",
    "    meta_dict['Title'] = info['Title']\n",
    "    return meta_dict\n",
    "    \n",
    "def search(query, top_k, index, model):\n",
    "    t=time.time()\n",
    "    query_vector = model.encode([query])\n",
    "    top_k = index.search(query_vector, top_k)\n",
    "    print('>>>> Results in Total Time: {}'.format(time.time()-t))\n",
    "    top_k_ids = top_k[1].tolist()[0]\n",
    "    results =  [fetch_movie_info(idx) for idx in top_k_ids]\n",
    "    return results"
   ]
  },
  {
   "cell_type": "code",
   "execution_count": 33,
   "metadata": {},
   "outputs": [
    {
     "name": "stdout",
     "output_type": "stream",
     "text": [
      ">>>> Results in Total Time: 0.8541176319122314\n",
      "\n",
      "\n",
      "\t {'Title': \"Vegan Chicken Strips'\"}\n",
      "\t {'Title': \"'Hog Maw'\"}\n",
      "\t {'Title': \"'Muesli'\"}\n",
      "\t {'Title': \"'Apple Cinnamon Granola'\"}\n",
      "\t {'Title': \"Vegan Marshmallow'\"}\n"
     ]
    }
   ],
   "source": [
    "query=article\n",
    "results=search(query, top_k=5, index=index, model=model)\n",
    "print(\"\\n\")\n",
    "for result in results:\n",
    "    print('\\t',result)"
   ]
  },
  {
   "cell_type": "code",
   "execution_count": 30,
   "metadata": {},
   "outputs": [],
   "source": [
    "pickle.dump(model, open(\"./models/msmarco-roberta-base-v3\", \"wb\"))"
   ]
  },
  {
   "cell_type": "code",
   "execution_count": 15,
   "metadata": {},
   "outputs": [],
   "source": [
    "from sentence_transformers import SentenceTransformer, InputExample, losses, models, datasets\n",
    "\n",
    "word_emb = models.Transformer('sentence-transformers/msmarco-distilbert-base-dot-prod-v3')\n",
    "pooling = models.Pooling(word_emb.get_word_embedding_dimension())\n",
    "model = SentenceTransformer(modules=[word_emb, pooling])"
   ]
  },
  {
   "cell_type": "code",
   "execution_count": 17,
   "metadata": {},
   "outputs": [
    {
     "data": {
      "text/html": [
       "<div>\n",
       "<style scoped>\n",
       "    .dataframe tbody tr th:only-of-type {\n",
       "        vertical-align: middle;\n",
       "    }\n",
       "\n",
       "    .dataframe tbody tr th {\n",
       "        vertical-align: top;\n",
       "    }\n",
       "\n",
       "    .dataframe thead th {\n",
       "        text-align: right;\n",
       "    }\n",
       "</style>\n",
       "<table border=\"1\" class=\"dataframe\">\n",
       "  <thead>\n",
       "    <tr style=\"text-align: right;\">\n",
       "      <th></th>\n",
       "      <th>Title</th>\n",
       "      <th>Description</th>\n",
       "      <th>doc_len</th>\n",
       "    </tr>\n",
       "  </thead>\n",
       "  <tbody>\n",
       "    <tr>\n",
       "      <th>0</th>\n",
       "      <td>'Ambrette Seed'</td>\n",
       "      <td>Ambrette plant The seed plant typically prepar...</td>\n",
       "      <td>73001</td>\n",
       "    </tr>\n",
       "    <tr>\n",
       "      <th>1</th>\n",
       "      <td>'Apple Cinnamon Granola'</td>\n",
       "      <td>Packed rolled oats almonds sunflower seeds pum...</td>\n",
       "      <td>134001</td>\n",
       "    </tr>\n",
       "    <tr>\n",
       "      <th>2</th>\n",
       "      <td>'Arizona Seasoning'</td>\n",
       "      <td>Arizona Dreaming simply delicious all-purpose ...</td>\n",
       "      <td>63001</td>\n",
       "    </tr>\n",
       "    <tr>\n",
       "      <th>3</th>\n",
       "      <td>Americano Coffee'</td>\n",
       "      <td>Type coffee drink prepared diluting espresso h...</td>\n",
       "      <td>89001</td>\n",
       "    </tr>\n",
       "    <tr>\n",
       "      <th>4</th>\n",
       "      <td>'Baby Abalone'</td>\n",
       "      <td>common name group small large marine gastropod...</td>\n",
       "      <td>126000</td>\n",
       "    </tr>\n",
       "  </tbody>\n",
       "</table>\n",
       "</div>"
      ],
      "text/plain": [
       "                      Title  \\\n",
       "0           'Ambrette Seed'   \n",
       "1  'Apple Cinnamon Granola'   \n",
       "2       'Arizona Seasoning'   \n",
       "3         Americano Coffee'   \n",
       "4            'Baby Abalone'   \n",
       "\n",
       "                                         Description  doc_len  \n",
       "0  Ambrette plant The seed plant typically prepar...    73001  \n",
       "1  Packed rolled oats almonds sunflower seeds pum...   134001  \n",
       "2  Arizona Dreaming simply delicious all-purpose ...    63001  \n",
       "3  Type coffee drink prepared diluting espresso h...    89001  \n",
       "4  common name group small large marine gastropod...   126000  "
      ]
     },
     "execution_count": 17,
     "metadata": {},
     "output_type": "execute_result"
    }
   ],
   "source": [
    "df.head()"
   ]
  },
  {
   "cell_type": "code",
   "execution_count": 18,
   "metadata": {},
   "outputs": [],
   "source": [
    "from torch import nn\n",
    "import os\n",
    "\n",
    "train_examples = [] \n",
    "for i in range(len(df)):\n",
    "    query = df.loc[i][0]\n",
    "    paragraph = df.loc[i][1]\n",
    "    try:\n",
    "        # paragraph = paragraph.split(\" \")\n",
    "        train_examples.append(InputExample(texts=[query, paragraph]))\n",
    "    except:\n",
    "        pass"
   ]
  },
  {
   "cell_type": "code",
   "execution_count": 19,
   "metadata": {},
   "outputs": [],
   "source": [
    "train_dataloader = datasets.NoDuplicatesDataLoader(train_examples, batch_size=8)\n",
    "train_loss = losses.MultipleNegativesRankingLoss(model)"
   ]
  },
  {
   "cell_type": "code",
   "execution_count": 20,
   "metadata": {},
   "outputs": [
    {
     "data": {
      "application/vnd.jupyter.widget-view+json": {
       "model_id": "300938e59c8a446384413edfeb8ebacf",
       "version_major": 2,
       "version_minor": 0
      },
      "text/plain": [
       "Epoch:   0%|          | 0/3 [00:00<?, ?it/s]"
      ]
     },
     "metadata": {},
     "output_type": "display_data"
    },
    {
     "data": {
      "application/vnd.jupyter.widget-view+json": {
       "model_id": "592e752384ec4689b020bfa427321546",
       "version_major": 2,
       "version_minor": 0
      },
      "text/plain": [
       "Iteration:   0%|          | 0/5 [00:00<?, ?it/s]"
      ]
     },
     "metadata": {},
     "output_type": "display_data"
    },
    {
     "data": {
      "application/vnd.jupyter.widget-view+json": {
       "model_id": "a261b0cb31ff4df189bdd38144c0fad9",
       "version_major": 2,
       "version_minor": 0
      },
      "text/plain": [
       "Iteration:   0%|          | 0/5 [00:00<?, ?it/s]"
      ]
     },
     "metadata": {},
     "output_type": "display_data"
    },
    {
     "data": {
      "application/vnd.jupyter.widget-view+json": {
       "model_id": "2839a3df12f74e5393465a477fe8895f",
       "version_major": 2,
       "version_minor": 0
      },
      "text/plain": [
       "Iteration:   0%|          | 0/5 [00:00<?, ?it/s]"
      ]
     },
     "metadata": {},
     "output_type": "display_data"
    }
   ],
   "source": [
    "num_epochs = 3\n",
    "warmup_steps = int(len(train_dataloader) * num_epochs * 0.1)\n",
    "model.fit(train_objectives=[(train_dataloader, train_loss)], epochs=num_epochs, warmup_steps=warmup_steps, show_progress_bar=True)\n",
    "\n",
    "os.makedirs('search', exist_ok=True)\n",
    "model.save('search/search-model')"
   ]
  },
  {
   "cell_type": "code",
   "execution_count": 21,
   "metadata": {},
   "outputs": [],
   "source": [
    "def fetch_movie_info(dataframe_idx):\n",
    "    info = df.iloc[dataframe_idx]\n",
    "    meta_dict = dict()\n",
    "    meta_dict['Title'] = info['Title']\n",
    "    #meta_dict['Description'] = info['Description'][:5000]\n",
    "    return meta_dict\n",
    "    \n",
    "def search(query, top_k, index, model):\n",
    "    t=time.time()\n",
    "    query_vector = model.encode([query])\n",
    "    top_k = index.search(query_vector, top_k)\n",
    "    print('>>>> Results in Total Time: {}'.format(time.time()-t))\n",
    "    top_k_ids = top_k[1].tolist()[0]\n",
    "    # top_k_ids = list(np.unique(top_k_ids))\n",
    "    results =  [fetch_movie_info(idx) for idx in top_k_ids]\n",
    "    return results"
   ]
  },
  {
   "cell_type": "code",
   "execution_count": 22,
   "metadata": {},
   "outputs": [
    {
     "name": "stdout",
     "output_type": "stream",
     "text": [
      ">>>> Results in Total Time: 0.4603574275970459\n",
      "\n",
      "\n",
      "\t {'Title': \"Organic Maize'\"}\n",
      "\t {'Title': \"'Mulberry'\"}\n",
      "\t {'Title': \"Peanut Butter'\"}\n",
      "\t {'Title': \"'Ambrette Seed'\"}\n",
      "\t {'Title': \"Salmon'\"}\n"
     ]
    }
   ],
   "source": [
    "query=article\n",
    "results=search(query, top_k=5, index=index, model=model)\n",
    "print(\"\\n\")\n",
    "for result in results:\n",
    "    print('\\t',result)"
   ]
  },
  {
   "cell_type": "code",
   "execution_count": 25,
   "metadata": {},
   "outputs": [],
   "source": [
    "pickle.dump(model, open(\"./models/msmarco-distilbert-base-dot-prod-v3\", \"wb\"))"
   ]
  }
 ],
 "metadata": {
  "kernelspec": {
   "display_name": "Python 3.8.13 ('DS')",
   "language": "python",
   "name": "python3"
  },
  "language_info": {
   "codemirror_mode": {
    "name": "ipython",
    "version": 3
   },
   "file_extension": ".py",
   "mimetype": "text/x-python",
   "name": "python",
   "nbconvert_exporter": "python",
   "pygments_lexer": "ipython3",
   "version": "3.8.13"
  },
  "orig_nbformat": 4,
  "vscode": {
   "interpreter": {
    "hash": "1065e81e91bd4e4b5acd3dbe48309dddf0185bc41d19660f163fde511bad3e42"
   }
  }
 },
 "nbformat": 4,
 "nbformat_minor": 2
}
